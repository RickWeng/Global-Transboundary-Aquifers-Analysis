{
 "cells": [
  {
   "cell_type": "markdown",
   "metadata": {},
   "source": [
    "# Explanation, Download GFC Data and Calculation Process"
   ]
  },
  {
   "cell_type": "markdown",
   "metadata": {},
   "source": [
    "Author: Ricky"
   ]
  },
  {
   "cell_type": "markdown",
   "metadata": {},
   "source": [
    "## Explanation"
   ]
  },
  {
   "cell_type": "markdown",
   "metadata": {},
   "source": [
    "1) \n",
    "Sorry for using the misleading table head, \"Forest\" should be replaced by \"annual rates of deforestation\". That column represents annual rate of deforestation under each anthrome. The first row of data can be summarized as 0.42% forest area has experienced a stand-replacement disturbance, or a change from a forest to non-forest state under dense settlements in 2001."
   ]
  },
  {
   "cell_type": "markdown",
   "metadata": {},
   "source": [
    "2) No, anthrome in year 2000 was used. Considering the coarse resolution of anthrome data, data availability and relatively stable human interaction with ecosystem, many papers compared long-term trends (around 1980s to 2014) in vegetation indices among anthromes using anthromes in year 2000 only. As 2000 is the start year of Global Forest Change data, I used anthrome in year 2000 as baseline data and assumed globally they were relatively stable since 2000."
   ]
  },
  {
   "cell_type": "markdown",
   "metadata": {},
   "source": [
    "## How to Download GFC Data"
   ]
  },
  {
   "cell_type": "markdown",
   "metadata": {},
   "source": [
    "Global Forest Change v1.2 website: https://earthenginepartners.appspot.com/science-2013-global-forest/download_v1.2.html"
   ]
  },
  {
   "cell_type": "markdown",
   "metadata": {},
   "source": [
    "I used version 1.2, now it is updated to version 1.6. There are several changes occuring, for example, when I downloaded the data they had a layer called `loss` which was separate from `lossyear`."
   ]
  },
  {
   "cell_type": "markdown",
   "metadata": {},
   "source": [
    "In their latest version [website](https://earthenginepartners.appspot.com/science-2013-global-forest/download_v1.6.html), they mention that \"to reduce confusion, beginning with version 1.4 we are no longer releasing loss as a separate layer from lossyear. Loss as previously releaed corresponds to nonzero values of loss year. \""
   ]
  },
  {
   "cell_type": "markdown",
   "metadata": {},
   "source": [
    "Below is the python script I used to automatically download data:"
   ]
  },
  {
   "cell_type": "code",
   "execution_count": 59,
   "metadata": {},
   "outputs": [],
   "source": [
    "import urllib.request\n",
    "import re"
   ]
  },
  {
   "cell_type": "code",
   "execution_count": 45,
   "metadata": {},
   "outputs": [],
   "source": [
    "# urls\n",
    "treecover_url = \"https://storage.googleapis.com/earthenginepartners-hansen/GFC2015/treecover2000.txt\"\n",
    "lossyear_url = \"https://storage.googleapis.com/earthenginepartners-hansen/GFC2015/lossyear.txt\"\n",
    "loss_url = \"https://storage.googleapis.com/earthenginepartners-hansen/GFC2015/loss.txt\"\n",
    "gain_url = \"https://storage.googleapis.com/earthenginepartners-hansen/GFC2015/gain.txt\""
   ]
  },
  {
   "cell_type": "code",
   "execution_count": 47,
   "metadata": {},
   "outputs": [],
   "source": [
    "# create download_gfc function\n",
    "def download_gfc(url):\n",
    "    for line in urllib.request.urlopen(url):\n",
    "        address = line.decode(\"utf-8\") \n",
    "        address = address.split('\\n')[0]\n",
    "        print(address)\n",
    "        #urllib.request.urlretrieve(url, '/Users/scott/Downloads/cat.tif')  "
   ]
  },
  {
   "cell_type": "code",
   "execution_count": 50,
   "metadata": {},
   "outputs": [
    {
     "name": "stdout",
     "output_type": "stream",
     "text": [
      "https://storage.googleapis.com/earthenginepartners-hansen/GFC2015/Hansen_GFC2015_loss_00N_000E.tif\n",
      "https://storage.googleapis.com/earthenginepartners-hansen/GFC2015/Hansen_GFC2015_loss_00N_010E.tif\n",
      "https://storage.googleapis.com/earthenginepartners-hansen/GFC2015/Hansen_GFC2015_loss_00N_010W.tif\n",
      "https://storage.googleapis.com/earthenginepartners-hansen/GFC2015/Hansen_GFC2015_loss_00N_020E.tif\n",
      "https://storage.googleapis.com/earthenginepartners-hansen/GFC2015/Hansen_GFC2015_loss_00N_020W.tif\n",
      "https://storage.googleapis.com/earthenginepartners-hansen/GFC2015/Hansen_GFC2015_loss_00N_030E.tif\n",
      "https://storage.googleapis.com/earthenginepartners-hansen/GFC2015/Hansen_GFC2015_loss_00N_030W.tif\n",
      "https://storage.googleapis.com/earthenginepartners-hansen/GFC2015/Hansen_GFC2015_loss_00N_040E.tif\n",
      "https://storage.googleapis.com/earthenginepartners-hansen/GFC2015/Hansen_GFC2015_loss_00N_040W.tif\n",
      "https://storage.googleapis.com/earthenginepartners-hansen/GFC2015/Hansen_GFC2015_loss_00N_050E.tif\n",
      "https://storage.googleapis.com/earthenginepartners-hansen/GFC2015/Hansen_GFC2015_loss_00N_050W.tif\n",
      "https://storage.googleapis.com/earthenginepartners-hansen/GFC2015/Hansen_GFC2015_loss_00N_060E.tif\n",
      "https://storage.googleapis.com/earthenginepartners-hansen/GFC2015/Hansen_GFC2015_loss_00N_060W.tif\n",
      "https://storage.googleapis.com/earthenginepartners-hansen/GFC2015/Hansen_GFC2015_loss_00N_070E.tif\n",
      "https://storage.googleapis.com/earthenginepartners-hansen/GFC2015/Hansen_GFC2015_loss_00N_070W.tif\n",
      "https://storage.googleapis.com/earthenginepartners-hansen/GFC2015/Hansen_GFC2015_loss_00N_080E.tif\n",
      "https://storage.googleapis.com/earthenginepartners-hansen/GFC2015/Hansen_GFC2015_loss_00N_080W.tif\n",
      "https://storage.googleapis.com/earthenginepartners-hansen/GFC2015/Hansen_GFC2015_loss_00N_090E.tif\n",
      "https://storage.googleapis.com/earthenginepartners-hansen/GFC2015/Hansen_GFC2015_loss_00N_090W.tif\n",
      "https://storage.googleapis.com/earthenginepartners-hansen/GFC2015/Hansen_GFC2015_loss_00N_100E.tif\n",
      "https://storage.googleapis.com/earthenginepartners-hansen/GFC2015/Hansen_GFC2015_loss_00N_100W.tif\n",
      "https://storage.googleapis.com/earthenginepartners-hansen/GFC2015/Hansen_GFC2015_loss_00N_110E.tif\n",
      "https://storage.googleapis.com/earthenginepartners-hansen/GFC2015/Hansen_GFC2015_loss_00N_110W.tif\n",
      "https://storage.googleapis.com/earthenginepartners-hansen/GFC2015/Hansen_GFC2015_loss_00N_120E.tif\n",
      "https://storage.googleapis.com/earthenginepartners-hansen/GFC2015/Hansen_GFC2015_loss_00N_120W.tif\n",
      "https://storage.googleapis.com/earthenginepartners-hansen/GFC2015/Hansen_GFC2015_loss_00N_130E.tif\n",
      "https://storage.googleapis.com/earthenginepartners-hansen/GFC2015/Hansen_GFC2015_loss_00N_130W.tif\n",
      "https://storage.googleapis.com/earthenginepartners-hansen/GFC2015/Hansen_GFC2015_loss_00N_140E.tif\n",
      "https://storage.googleapis.com/earthenginepartners-hansen/GFC2015/Hansen_GFC2015_loss_00N_140W.tif\n",
      "https://storage.googleapis.com/earthenginepartners-hansen/GFC2015/Hansen_GFC2015_loss_00N_150E.tif\n",
      "https://storage.googleapis.com/earthenginepartners-hansen/GFC2015/Hansen_GFC2015_loss_00N_150W.tif\n",
      "https://storage.googleapis.com/earthenginepartners-hansen/GFC2015/Hansen_GFC2015_loss_00N_160E.tif\n",
      "https://storage.googleapis.com/earthenginepartners-hansen/GFC2015/Hansen_GFC2015_loss_00N_160W.tif\n",
      "https://storage.googleapis.com/earthenginepartners-hansen/GFC2015/Hansen_GFC2015_loss_00N_170E.tif\n",
      "https://storage.googleapis.com/earthenginepartners-hansen/GFC2015/Hansen_GFC2015_loss_00N_170W.tif\n",
      "https://storage.googleapis.com/earthenginepartners-hansen/GFC2015/Hansen_GFC2015_loss_00N_180W.tif\n",
      "https://storage.googleapis.com/earthenginepartners-hansen/GFC2015/Hansen_GFC2015_loss_10N_000E.tif\n",
      "https://storage.googleapis.com/earthenginepartners-hansen/GFC2015/Hansen_GFC2015_loss_10N_010E.tif\n",
      "https://storage.googleapis.com/earthenginepartners-hansen/GFC2015/Hansen_GFC2015_loss_10N_010W.tif\n",
      "https://storage.googleapis.com/earthenginepartners-hansen/GFC2015/Hansen_GFC2015_loss_10N_020E.tif\n",
      "https://storage.googleapis.com/earthenginepartners-hansen/GFC2015/Hansen_GFC2015_loss_10N_020W.tif\n",
      "https://storage.googleapis.com/earthenginepartners-hansen/GFC2015/Hansen_GFC2015_loss_10N_030E.tif\n",
      "https://storage.googleapis.com/earthenginepartners-hansen/GFC2015/Hansen_GFC2015_loss_10N_030W.tif\n",
      "https://storage.googleapis.com/earthenginepartners-hansen/GFC2015/Hansen_GFC2015_loss_10N_040E.tif\n",
      "https://storage.googleapis.com/earthenginepartners-hansen/GFC2015/Hansen_GFC2015_loss_10N_040W.tif\n",
      "https://storage.googleapis.com/earthenginepartners-hansen/GFC2015/Hansen_GFC2015_loss_10N_050E.tif\n",
      "https://storage.googleapis.com/earthenginepartners-hansen/GFC2015/Hansen_GFC2015_loss_10N_050W.tif\n",
      "https://storage.googleapis.com/earthenginepartners-hansen/GFC2015/Hansen_GFC2015_loss_10N_060E.tif\n",
      "https://storage.googleapis.com/earthenginepartners-hansen/GFC2015/Hansen_GFC2015_loss_10N_060W.tif\n",
      "https://storage.googleapis.com/earthenginepartners-hansen/GFC2015/Hansen_GFC2015_loss_10N_070E.tif\n",
      "https://storage.googleapis.com/earthenginepartners-hansen/GFC2015/Hansen_GFC2015_loss_10N_070W.tif\n",
      "https://storage.googleapis.com/earthenginepartners-hansen/GFC2015/Hansen_GFC2015_loss_10N_080E.tif\n",
      "https://storage.googleapis.com/earthenginepartners-hansen/GFC2015/Hansen_GFC2015_loss_10N_080W.tif\n",
      "https://storage.googleapis.com/earthenginepartners-hansen/GFC2015/Hansen_GFC2015_loss_10N_090E.tif\n",
      "https://storage.googleapis.com/earthenginepartners-hansen/GFC2015/Hansen_GFC2015_loss_10N_090W.tif\n",
      "https://storage.googleapis.com/earthenginepartners-hansen/GFC2015/Hansen_GFC2015_loss_10N_100E.tif\n",
      "https://storage.googleapis.com/earthenginepartners-hansen/GFC2015/Hansen_GFC2015_loss_10N_100W.tif\n",
      "https://storage.googleapis.com/earthenginepartners-hansen/GFC2015/Hansen_GFC2015_loss_10N_110E.tif\n",
      "https://storage.googleapis.com/earthenginepartners-hansen/GFC2015/Hansen_GFC2015_loss_10N_110W.tif\n",
      "https://storage.googleapis.com/earthenginepartners-hansen/GFC2015/Hansen_GFC2015_loss_10N_120E.tif\n",
      "https://storage.googleapis.com/earthenginepartners-hansen/GFC2015/Hansen_GFC2015_loss_10N_120W.tif\n",
      "https://storage.googleapis.com/earthenginepartners-hansen/GFC2015/Hansen_GFC2015_loss_10N_130E.tif\n",
      "https://storage.googleapis.com/earthenginepartners-hansen/GFC2015/Hansen_GFC2015_loss_10N_130W.tif\n",
      "https://storage.googleapis.com/earthenginepartners-hansen/GFC2015/Hansen_GFC2015_loss_10N_140E.tif\n",
      "https://storage.googleapis.com/earthenginepartners-hansen/GFC2015/Hansen_GFC2015_loss_10N_140W.tif\n",
      "https://storage.googleapis.com/earthenginepartners-hansen/GFC2015/Hansen_GFC2015_loss_10N_150E.tif\n",
      "https://storage.googleapis.com/earthenginepartners-hansen/GFC2015/Hansen_GFC2015_loss_10N_150W.tif\n",
      "https://storage.googleapis.com/earthenginepartners-hansen/GFC2015/Hansen_GFC2015_loss_10N_160E.tif\n",
      "https://storage.googleapis.com/earthenginepartners-hansen/GFC2015/Hansen_GFC2015_loss_10N_160W.tif\n",
      "https://storage.googleapis.com/earthenginepartners-hansen/GFC2015/Hansen_GFC2015_loss_10N_170E.tif\n",
      "https://storage.googleapis.com/earthenginepartners-hansen/GFC2015/Hansen_GFC2015_loss_10N_170W.tif\n",
      "https://storage.googleapis.com/earthenginepartners-hansen/GFC2015/Hansen_GFC2015_loss_10N_180W.tif\n",
      "https://storage.googleapis.com/earthenginepartners-hansen/GFC2015/Hansen_GFC2015_loss_10S_000E.tif\n",
      "https://storage.googleapis.com/earthenginepartners-hansen/GFC2015/Hansen_GFC2015_loss_10S_010E.tif\n",
      "https://storage.googleapis.com/earthenginepartners-hansen/GFC2015/Hansen_GFC2015_loss_10S_010W.tif\n",
      "https://storage.googleapis.com/earthenginepartners-hansen/GFC2015/Hansen_GFC2015_loss_10S_020E.tif\n",
      "https://storage.googleapis.com/earthenginepartners-hansen/GFC2015/Hansen_GFC2015_loss_10S_020W.tif\n",
      "https://storage.googleapis.com/earthenginepartners-hansen/GFC2015/Hansen_GFC2015_loss_10S_030E.tif\n",
      "https://storage.googleapis.com/earthenginepartners-hansen/GFC2015/Hansen_GFC2015_loss_10S_030W.tif\n",
      "https://storage.googleapis.com/earthenginepartners-hansen/GFC2015/Hansen_GFC2015_loss_10S_040E.tif\n",
      "https://storage.googleapis.com/earthenginepartners-hansen/GFC2015/Hansen_GFC2015_loss_10S_040W.tif\n",
      "https://storage.googleapis.com/earthenginepartners-hansen/GFC2015/Hansen_GFC2015_loss_10S_050E.tif\n",
      "https://storage.googleapis.com/earthenginepartners-hansen/GFC2015/Hansen_GFC2015_loss_10S_050W.tif\n",
      "https://storage.googleapis.com/earthenginepartners-hansen/GFC2015/Hansen_GFC2015_loss_10S_060E.tif\n",
      "https://storage.googleapis.com/earthenginepartners-hansen/GFC2015/Hansen_GFC2015_loss_10S_060W.tif\n",
      "https://storage.googleapis.com/earthenginepartners-hansen/GFC2015/Hansen_GFC2015_loss_10S_070E.tif\n",
      "https://storage.googleapis.com/earthenginepartners-hansen/GFC2015/Hansen_GFC2015_loss_10S_070W.tif\n",
      "https://storage.googleapis.com/earthenginepartners-hansen/GFC2015/Hansen_GFC2015_loss_10S_080E.tif\n",
      "https://storage.googleapis.com/earthenginepartners-hansen/GFC2015/Hansen_GFC2015_loss_10S_080W.tif\n",
      "https://storage.googleapis.com/earthenginepartners-hansen/GFC2015/Hansen_GFC2015_loss_10S_090E.tif\n",
      "https://storage.googleapis.com/earthenginepartners-hansen/GFC2015/Hansen_GFC2015_loss_10S_090W.tif\n",
      "https://storage.googleapis.com/earthenginepartners-hansen/GFC2015/Hansen_GFC2015_loss_10S_100E.tif\n",
      "https://storage.googleapis.com/earthenginepartners-hansen/GFC2015/Hansen_GFC2015_loss_10S_100W.tif\n",
      "https://storage.googleapis.com/earthenginepartners-hansen/GFC2015/Hansen_GFC2015_loss_10S_110E.tif\n",
      "https://storage.googleapis.com/earthenginepartners-hansen/GFC2015/Hansen_GFC2015_loss_10S_110W.tif\n",
      "https://storage.googleapis.com/earthenginepartners-hansen/GFC2015/Hansen_GFC2015_loss_10S_120E.tif\n",
      "https://storage.googleapis.com/earthenginepartners-hansen/GFC2015/Hansen_GFC2015_loss_10S_120W.tif\n",
      "https://storage.googleapis.com/earthenginepartners-hansen/GFC2015/Hansen_GFC2015_loss_10S_130E.tif\n",
      "https://storage.googleapis.com/earthenginepartners-hansen/GFC2015/Hansen_GFC2015_loss_10S_130W.tif\n",
      "https://storage.googleapis.com/earthenginepartners-hansen/GFC2015/Hansen_GFC2015_loss_10S_140E.tif\n",
      "https://storage.googleapis.com/earthenginepartners-hansen/GFC2015/Hansen_GFC2015_loss_10S_140W.tif\n",
      "https://storage.googleapis.com/earthenginepartners-hansen/GFC2015/Hansen_GFC2015_loss_10S_150E.tif\n",
      "https://storage.googleapis.com/earthenginepartners-hansen/GFC2015/Hansen_GFC2015_loss_10S_150W.tif\n",
      "https://storage.googleapis.com/earthenginepartners-hansen/GFC2015/Hansen_GFC2015_loss_10S_160E.tif\n",
      "https://storage.googleapis.com/earthenginepartners-hansen/GFC2015/Hansen_GFC2015_loss_10S_160W.tif\n",
      "https://storage.googleapis.com/earthenginepartners-hansen/GFC2015/Hansen_GFC2015_loss_10S_170E.tif\n",
      "https://storage.googleapis.com/earthenginepartners-hansen/GFC2015/Hansen_GFC2015_loss_10S_170W.tif\n",
      "https://storage.googleapis.com/earthenginepartners-hansen/GFC2015/Hansen_GFC2015_loss_10S_180W.tif\n",
      "https://storage.googleapis.com/earthenginepartners-hansen/GFC2015/Hansen_GFC2015_loss_20N_000E.tif\n",
      "https://storage.googleapis.com/earthenginepartners-hansen/GFC2015/Hansen_GFC2015_loss_20N_010E.tif\n",
      "https://storage.googleapis.com/earthenginepartners-hansen/GFC2015/Hansen_GFC2015_loss_20N_010W.tif\n",
      "https://storage.googleapis.com/earthenginepartners-hansen/GFC2015/Hansen_GFC2015_loss_20N_020E.tif\n",
      "https://storage.googleapis.com/earthenginepartners-hansen/GFC2015/Hansen_GFC2015_loss_20N_020W.tif\n",
      "https://storage.googleapis.com/earthenginepartners-hansen/GFC2015/Hansen_GFC2015_loss_20N_030E.tif\n",
      "https://storage.googleapis.com/earthenginepartners-hansen/GFC2015/Hansen_GFC2015_loss_20N_030W.tif\n",
      "https://storage.googleapis.com/earthenginepartners-hansen/GFC2015/Hansen_GFC2015_loss_20N_040E.tif\n",
      "https://storage.googleapis.com/earthenginepartners-hansen/GFC2015/Hansen_GFC2015_loss_20N_040W.tif\n",
      "https://storage.googleapis.com/earthenginepartners-hansen/GFC2015/Hansen_GFC2015_loss_20N_050E.tif\n",
      "https://storage.googleapis.com/earthenginepartners-hansen/GFC2015/Hansen_GFC2015_loss_20N_050W.tif\n",
      "https://storage.googleapis.com/earthenginepartners-hansen/GFC2015/Hansen_GFC2015_loss_20N_060E.tif\n",
      "https://storage.googleapis.com/earthenginepartners-hansen/GFC2015/Hansen_GFC2015_loss_20N_060W.tif\n",
      "https://storage.googleapis.com/earthenginepartners-hansen/GFC2015/Hansen_GFC2015_loss_20N_070E.tif\n",
      "https://storage.googleapis.com/earthenginepartners-hansen/GFC2015/Hansen_GFC2015_loss_20N_070W.tif\n",
      "https://storage.googleapis.com/earthenginepartners-hansen/GFC2015/Hansen_GFC2015_loss_20N_080E.tif\n",
      "https://storage.googleapis.com/earthenginepartners-hansen/GFC2015/Hansen_GFC2015_loss_20N_080W.tif\n",
      "https://storage.googleapis.com/earthenginepartners-hansen/GFC2015/Hansen_GFC2015_loss_20N_090E.tif\n",
      "https://storage.googleapis.com/earthenginepartners-hansen/GFC2015/Hansen_GFC2015_loss_20N_090W.tif\n",
      "https://storage.googleapis.com/earthenginepartners-hansen/GFC2015/Hansen_GFC2015_loss_20N_100E.tif\n",
      "https://storage.googleapis.com/earthenginepartners-hansen/GFC2015/Hansen_GFC2015_loss_20N_100W.tif\n",
      "https://storage.googleapis.com/earthenginepartners-hansen/GFC2015/Hansen_GFC2015_loss_20N_110E.tif\n",
      "https://storage.googleapis.com/earthenginepartners-hansen/GFC2015/Hansen_GFC2015_loss_20N_110W.tif\n",
      "https://storage.googleapis.com/earthenginepartners-hansen/GFC2015/Hansen_GFC2015_loss_20N_120E.tif\n",
      "https://storage.googleapis.com/earthenginepartners-hansen/GFC2015/Hansen_GFC2015_loss_20N_120W.tif\n",
      "https://storage.googleapis.com/earthenginepartners-hansen/GFC2015/Hansen_GFC2015_loss_20N_130E.tif\n",
      "https://storage.googleapis.com/earthenginepartners-hansen/GFC2015/Hansen_GFC2015_loss_20N_130W.tif\n",
      "https://storage.googleapis.com/earthenginepartners-hansen/GFC2015/Hansen_GFC2015_loss_20N_140E.tif\n",
      "https://storage.googleapis.com/earthenginepartners-hansen/GFC2015/Hansen_GFC2015_loss_20N_140W.tif\n",
      "https://storage.googleapis.com/earthenginepartners-hansen/GFC2015/Hansen_GFC2015_loss_20N_150E.tif\n",
      "https://storage.googleapis.com/earthenginepartners-hansen/GFC2015/Hansen_GFC2015_loss_20N_150W.tif\n",
      "https://storage.googleapis.com/earthenginepartners-hansen/GFC2015/Hansen_GFC2015_loss_20N_160E.tif\n",
      "https://storage.googleapis.com/earthenginepartners-hansen/GFC2015/Hansen_GFC2015_loss_20N_160W.tif\n",
      "https://storage.googleapis.com/earthenginepartners-hansen/GFC2015/Hansen_GFC2015_loss_20N_170E.tif\n",
      "https://storage.googleapis.com/earthenginepartners-hansen/GFC2015/Hansen_GFC2015_loss_20N_170W.tif\n",
      "https://storage.googleapis.com/earthenginepartners-hansen/GFC2015/Hansen_GFC2015_loss_20N_180W.tif\n",
      "https://storage.googleapis.com/earthenginepartners-hansen/GFC2015/Hansen_GFC2015_loss_20S_000E.tif\n",
      "https://storage.googleapis.com/earthenginepartners-hansen/GFC2015/Hansen_GFC2015_loss_20S_010E.tif\n",
      "https://storage.googleapis.com/earthenginepartners-hansen/GFC2015/Hansen_GFC2015_loss_20S_010W.tif\n",
      "https://storage.googleapis.com/earthenginepartners-hansen/GFC2015/Hansen_GFC2015_loss_20S_020E.tif\n",
      "https://storage.googleapis.com/earthenginepartners-hansen/GFC2015/Hansen_GFC2015_loss_20S_020W.tif\n",
      "https://storage.googleapis.com/earthenginepartners-hansen/GFC2015/Hansen_GFC2015_loss_20S_030E.tif\n",
      "https://storage.googleapis.com/earthenginepartners-hansen/GFC2015/Hansen_GFC2015_loss_20S_030W.tif\n",
      "https://storage.googleapis.com/earthenginepartners-hansen/GFC2015/Hansen_GFC2015_loss_20S_040E.tif\n",
      "https://storage.googleapis.com/earthenginepartners-hansen/GFC2015/Hansen_GFC2015_loss_20S_040W.tif\n",
      "https://storage.googleapis.com/earthenginepartners-hansen/GFC2015/Hansen_GFC2015_loss_20S_050E.tif\n",
      "https://storage.googleapis.com/earthenginepartners-hansen/GFC2015/Hansen_GFC2015_loss_20S_050W.tif\n",
      "https://storage.googleapis.com/earthenginepartners-hansen/GFC2015/Hansen_GFC2015_loss_20S_060E.tif\n",
      "https://storage.googleapis.com/earthenginepartners-hansen/GFC2015/Hansen_GFC2015_loss_20S_060W.tif\n",
      "https://storage.googleapis.com/earthenginepartners-hansen/GFC2015/Hansen_GFC2015_loss_20S_070E.tif\n",
      "https://storage.googleapis.com/earthenginepartners-hansen/GFC2015/Hansen_GFC2015_loss_20S_070W.tif\n",
      "https://storage.googleapis.com/earthenginepartners-hansen/GFC2015/Hansen_GFC2015_loss_20S_080E.tif\n",
      "https://storage.googleapis.com/earthenginepartners-hansen/GFC2015/Hansen_GFC2015_loss_20S_080W.tif\n",
      "https://storage.googleapis.com/earthenginepartners-hansen/GFC2015/Hansen_GFC2015_loss_20S_090E.tif\n",
      "https://storage.googleapis.com/earthenginepartners-hansen/GFC2015/Hansen_GFC2015_loss_20S_090W.tif\n",
      "https://storage.googleapis.com/earthenginepartners-hansen/GFC2015/Hansen_GFC2015_loss_20S_100E.tif\n",
      "https://storage.googleapis.com/earthenginepartners-hansen/GFC2015/Hansen_GFC2015_loss_20S_100W.tif\n",
      "https://storage.googleapis.com/earthenginepartners-hansen/GFC2015/Hansen_GFC2015_loss_20S_110E.tif\n",
      "https://storage.googleapis.com/earthenginepartners-hansen/GFC2015/Hansen_GFC2015_loss_20S_110W.tif\n",
      "https://storage.googleapis.com/earthenginepartners-hansen/GFC2015/Hansen_GFC2015_loss_20S_120E.tif\n",
      "https://storage.googleapis.com/earthenginepartners-hansen/GFC2015/Hansen_GFC2015_loss_20S_120W.tif\n",
      "https://storage.googleapis.com/earthenginepartners-hansen/GFC2015/Hansen_GFC2015_loss_20S_130E.tif\n",
      "https://storage.googleapis.com/earthenginepartners-hansen/GFC2015/Hansen_GFC2015_loss_20S_130W.tif\n",
      "https://storage.googleapis.com/earthenginepartners-hansen/GFC2015/Hansen_GFC2015_loss_20S_140E.tif\n",
      "https://storage.googleapis.com/earthenginepartners-hansen/GFC2015/Hansen_GFC2015_loss_20S_140W.tif\n",
      "https://storage.googleapis.com/earthenginepartners-hansen/GFC2015/Hansen_GFC2015_loss_20S_150E.tif\n",
      "https://storage.googleapis.com/earthenginepartners-hansen/GFC2015/Hansen_GFC2015_loss_20S_150W.tif\n",
      "https://storage.googleapis.com/earthenginepartners-hansen/GFC2015/Hansen_GFC2015_loss_20S_160E.tif\n",
      "https://storage.googleapis.com/earthenginepartners-hansen/GFC2015/Hansen_GFC2015_loss_20S_160W.tif\n",
      "https://storage.googleapis.com/earthenginepartners-hansen/GFC2015/Hansen_GFC2015_loss_20S_170E.tif\n",
      "https://storage.googleapis.com/earthenginepartners-hansen/GFC2015/Hansen_GFC2015_loss_20S_170W.tif\n",
      "https://storage.googleapis.com/earthenginepartners-hansen/GFC2015/Hansen_GFC2015_loss_20S_180W.tif\n",
      "https://storage.googleapis.com/earthenginepartners-hansen/GFC2015/Hansen_GFC2015_loss_30N_000E.tif\n",
      "https://storage.googleapis.com/earthenginepartners-hansen/GFC2015/Hansen_GFC2015_loss_30N_010E.tif\n",
      "https://storage.googleapis.com/earthenginepartners-hansen/GFC2015/Hansen_GFC2015_loss_30N_010W.tif\n",
      "https://storage.googleapis.com/earthenginepartners-hansen/GFC2015/Hansen_GFC2015_loss_30N_020E.tif\n",
      "https://storage.googleapis.com/earthenginepartners-hansen/GFC2015/Hansen_GFC2015_loss_30N_020W.tif\n",
      "https://storage.googleapis.com/earthenginepartners-hansen/GFC2015/Hansen_GFC2015_loss_30N_030E.tif\n",
      "https://storage.googleapis.com/earthenginepartners-hansen/GFC2015/Hansen_GFC2015_loss_30N_030W.tif\n",
      "https://storage.googleapis.com/earthenginepartners-hansen/GFC2015/Hansen_GFC2015_loss_30N_040E.tif\n",
      "https://storage.googleapis.com/earthenginepartners-hansen/GFC2015/Hansen_GFC2015_loss_30N_040W.tif\n",
      "https://storage.googleapis.com/earthenginepartners-hansen/GFC2015/Hansen_GFC2015_loss_30N_050E.tif\n",
      "https://storage.googleapis.com/earthenginepartners-hansen/GFC2015/Hansen_GFC2015_loss_30N_050W.tif\n",
      "https://storage.googleapis.com/earthenginepartners-hansen/GFC2015/Hansen_GFC2015_loss_30N_060E.tif\n",
      "https://storage.googleapis.com/earthenginepartners-hansen/GFC2015/Hansen_GFC2015_loss_30N_060W.tif\n",
      "https://storage.googleapis.com/earthenginepartners-hansen/GFC2015/Hansen_GFC2015_loss_30N_070E.tif\n",
      "https://storage.googleapis.com/earthenginepartners-hansen/GFC2015/Hansen_GFC2015_loss_30N_070W.tif\n",
      "https://storage.googleapis.com/earthenginepartners-hansen/GFC2015/Hansen_GFC2015_loss_30N_080E.tif\n",
      "https://storage.googleapis.com/earthenginepartners-hansen/GFC2015/Hansen_GFC2015_loss_30N_080W.tif\n",
      "https://storage.googleapis.com/earthenginepartners-hansen/GFC2015/Hansen_GFC2015_loss_30N_090E.tif\n",
      "https://storage.googleapis.com/earthenginepartners-hansen/GFC2015/Hansen_GFC2015_loss_30N_090W.tif\n",
      "https://storage.googleapis.com/earthenginepartners-hansen/GFC2015/Hansen_GFC2015_loss_30N_100E.tif\n",
      "https://storage.googleapis.com/earthenginepartners-hansen/GFC2015/Hansen_GFC2015_loss_30N_100W.tif\n",
      "https://storage.googleapis.com/earthenginepartners-hansen/GFC2015/Hansen_GFC2015_loss_30N_110E.tif\n",
      "https://storage.googleapis.com/earthenginepartners-hansen/GFC2015/Hansen_GFC2015_loss_30N_110W.tif\n",
      "https://storage.googleapis.com/earthenginepartners-hansen/GFC2015/Hansen_GFC2015_loss_30N_120E.tif\n",
      "https://storage.googleapis.com/earthenginepartners-hansen/GFC2015/Hansen_GFC2015_loss_30N_120W.tif\n",
      "https://storage.googleapis.com/earthenginepartners-hansen/GFC2015/Hansen_GFC2015_loss_30N_130E.tif\n",
      "https://storage.googleapis.com/earthenginepartners-hansen/GFC2015/Hansen_GFC2015_loss_30N_130W.tif\n",
      "https://storage.googleapis.com/earthenginepartners-hansen/GFC2015/Hansen_GFC2015_loss_30N_140E.tif\n",
      "https://storage.googleapis.com/earthenginepartners-hansen/GFC2015/Hansen_GFC2015_loss_30N_140W.tif\n",
      "https://storage.googleapis.com/earthenginepartners-hansen/GFC2015/Hansen_GFC2015_loss_30N_150E.tif\n",
      "https://storage.googleapis.com/earthenginepartners-hansen/GFC2015/Hansen_GFC2015_loss_30N_150W.tif\n",
      "https://storage.googleapis.com/earthenginepartners-hansen/GFC2015/Hansen_GFC2015_loss_30N_160E.tif\n",
      "https://storage.googleapis.com/earthenginepartners-hansen/GFC2015/Hansen_GFC2015_loss_30N_160W.tif\n",
      "https://storage.googleapis.com/earthenginepartners-hansen/GFC2015/Hansen_GFC2015_loss_30N_170E.tif\n",
      "https://storage.googleapis.com/earthenginepartners-hansen/GFC2015/Hansen_GFC2015_loss_30N_170W.tif\n",
      "https://storage.googleapis.com/earthenginepartners-hansen/GFC2015/Hansen_GFC2015_loss_30N_180W.tif\n",
      "https://storage.googleapis.com/earthenginepartners-hansen/GFC2015/Hansen_GFC2015_loss_30S_000E.tif\n",
      "https://storage.googleapis.com/earthenginepartners-hansen/GFC2015/Hansen_GFC2015_loss_30S_010E.tif\n",
      "https://storage.googleapis.com/earthenginepartners-hansen/GFC2015/Hansen_GFC2015_loss_30S_010W.tif\n",
      "https://storage.googleapis.com/earthenginepartners-hansen/GFC2015/Hansen_GFC2015_loss_30S_020E.tif\n",
      "https://storage.googleapis.com/earthenginepartners-hansen/GFC2015/Hansen_GFC2015_loss_30S_020W.tif\n",
      "https://storage.googleapis.com/earthenginepartners-hansen/GFC2015/Hansen_GFC2015_loss_30S_030E.tif\n",
      "https://storage.googleapis.com/earthenginepartners-hansen/GFC2015/Hansen_GFC2015_loss_30S_030W.tif\n",
      "https://storage.googleapis.com/earthenginepartners-hansen/GFC2015/Hansen_GFC2015_loss_30S_040E.tif\n",
      "https://storage.googleapis.com/earthenginepartners-hansen/GFC2015/Hansen_GFC2015_loss_30S_040W.tif\n",
      "https://storage.googleapis.com/earthenginepartners-hansen/GFC2015/Hansen_GFC2015_loss_30S_050E.tif\n",
      "https://storage.googleapis.com/earthenginepartners-hansen/GFC2015/Hansen_GFC2015_loss_30S_050W.tif\n",
      "https://storage.googleapis.com/earthenginepartners-hansen/GFC2015/Hansen_GFC2015_loss_30S_060E.tif\n",
      "https://storage.googleapis.com/earthenginepartners-hansen/GFC2015/Hansen_GFC2015_loss_30S_060W.tif\n",
      "https://storage.googleapis.com/earthenginepartners-hansen/GFC2015/Hansen_GFC2015_loss_30S_070E.tif\n",
      "https://storage.googleapis.com/earthenginepartners-hansen/GFC2015/Hansen_GFC2015_loss_30S_070W.tif\n",
      "https://storage.googleapis.com/earthenginepartners-hansen/GFC2015/Hansen_GFC2015_loss_30S_080E.tif\n",
      "https://storage.googleapis.com/earthenginepartners-hansen/GFC2015/Hansen_GFC2015_loss_30S_080W.tif\n",
      "https://storage.googleapis.com/earthenginepartners-hansen/GFC2015/Hansen_GFC2015_loss_30S_090E.tif\n",
      "https://storage.googleapis.com/earthenginepartners-hansen/GFC2015/Hansen_GFC2015_loss_30S_090W.tif\n",
      "https://storage.googleapis.com/earthenginepartners-hansen/GFC2015/Hansen_GFC2015_loss_30S_100E.tif\n",
      "https://storage.googleapis.com/earthenginepartners-hansen/GFC2015/Hansen_GFC2015_loss_30S_100W.tif\n",
      "https://storage.googleapis.com/earthenginepartners-hansen/GFC2015/Hansen_GFC2015_loss_30S_110E.tif\n",
      "https://storage.googleapis.com/earthenginepartners-hansen/GFC2015/Hansen_GFC2015_loss_30S_110W.tif\n",
      "https://storage.googleapis.com/earthenginepartners-hansen/GFC2015/Hansen_GFC2015_loss_30S_120E.tif\n",
      "https://storage.googleapis.com/earthenginepartners-hansen/GFC2015/Hansen_GFC2015_loss_30S_120W.tif\n",
      "https://storage.googleapis.com/earthenginepartners-hansen/GFC2015/Hansen_GFC2015_loss_30S_130E.tif\n",
      "https://storage.googleapis.com/earthenginepartners-hansen/GFC2015/Hansen_GFC2015_loss_30S_130W.tif\n",
      "https://storage.googleapis.com/earthenginepartners-hansen/GFC2015/Hansen_GFC2015_loss_30S_140E.tif\n",
      "https://storage.googleapis.com/earthenginepartners-hansen/GFC2015/Hansen_GFC2015_loss_30S_140W.tif\n",
      "https://storage.googleapis.com/earthenginepartners-hansen/GFC2015/Hansen_GFC2015_loss_30S_150E.tif\n",
      "https://storage.googleapis.com/earthenginepartners-hansen/GFC2015/Hansen_GFC2015_loss_30S_150W.tif\n",
      "https://storage.googleapis.com/earthenginepartners-hansen/GFC2015/Hansen_GFC2015_loss_30S_160E.tif\n",
      "https://storage.googleapis.com/earthenginepartners-hansen/GFC2015/Hansen_GFC2015_loss_30S_160W.tif\n",
      "https://storage.googleapis.com/earthenginepartners-hansen/GFC2015/Hansen_GFC2015_loss_30S_170E.tif\n",
      "https://storage.googleapis.com/earthenginepartners-hansen/GFC2015/Hansen_GFC2015_loss_30S_170W.tif\n",
      "https://storage.googleapis.com/earthenginepartners-hansen/GFC2015/Hansen_GFC2015_loss_30S_180W.tif\n",
      "https://storage.googleapis.com/earthenginepartners-hansen/GFC2015/Hansen_GFC2015_loss_40N_000E.tif\n",
      "https://storage.googleapis.com/earthenginepartners-hansen/GFC2015/Hansen_GFC2015_loss_40N_010E.tif\n",
      "https://storage.googleapis.com/earthenginepartners-hansen/GFC2015/Hansen_GFC2015_loss_40N_010W.tif\n",
      "https://storage.googleapis.com/earthenginepartners-hansen/GFC2015/Hansen_GFC2015_loss_40N_020E.tif\n",
      "https://storage.googleapis.com/earthenginepartners-hansen/GFC2015/Hansen_GFC2015_loss_40N_020W.tif\n",
      "https://storage.googleapis.com/earthenginepartners-hansen/GFC2015/Hansen_GFC2015_loss_40N_030E.tif\n",
      "https://storage.googleapis.com/earthenginepartners-hansen/GFC2015/Hansen_GFC2015_loss_40N_030W.tif\n",
      "https://storage.googleapis.com/earthenginepartners-hansen/GFC2015/Hansen_GFC2015_loss_40N_040E.tif\n",
      "https://storage.googleapis.com/earthenginepartners-hansen/GFC2015/Hansen_GFC2015_loss_40N_040W.tif\n",
      "https://storage.googleapis.com/earthenginepartners-hansen/GFC2015/Hansen_GFC2015_loss_40N_050E.tif\n",
      "https://storage.googleapis.com/earthenginepartners-hansen/GFC2015/Hansen_GFC2015_loss_40N_050W.tif\n",
      "https://storage.googleapis.com/earthenginepartners-hansen/GFC2015/Hansen_GFC2015_loss_40N_060E.tif\n",
      "https://storage.googleapis.com/earthenginepartners-hansen/GFC2015/Hansen_GFC2015_loss_40N_060W.tif\n",
      "https://storage.googleapis.com/earthenginepartners-hansen/GFC2015/Hansen_GFC2015_loss_40N_070E.tif\n",
      "https://storage.googleapis.com/earthenginepartners-hansen/GFC2015/Hansen_GFC2015_loss_40N_070W.tif\n",
      "https://storage.googleapis.com/earthenginepartners-hansen/GFC2015/Hansen_GFC2015_loss_40N_080E.tif\n",
      "https://storage.googleapis.com/earthenginepartners-hansen/GFC2015/Hansen_GFC2015_loss_40N_080W.tif\n",
      "https://storage.googleapis.com/earthenginepartners-hansen/GFC2015/Hansen_GFC2015_loss_40N_090E.tif\n",
      "https://storage.googleapis.com/earthenginepartners-hansen/GFC2015/Hansen_GFC2015_loss_40N_090W.tif\n",
      "https://storage.googleapis.com/earthenginepartners-hansen/GFC2015/Hansen_GFC2015_loss_40N_100E.tif\n",
      "https://storage.googleapis.com/earthenginepartners-hansen/GFC2015/Hansen_GFC2015_loss_40N_100W.tif\n",
      "https://storage.googleapis.com/earthenginepartners-hansen/GFC2015/Hansen_GFC2015_loss_40N_110E.tif\n",
      "https://storage.googleapis.com/earthenginepartners-hansen/GFC2015/Hansen_GFC2015_loss_40N_110W.tif\n",
      "https://storage.googleapis.com/earthenginepartners-hansen/GFC2015/Hansen_GFC2015_loss_40N_120E.tif\n",
      "https://storage.googleapis.com/earthenginepartners-hansen/GFC2015/Hansen_GFC2015_loss_40N_120W.tif\n",
      "https://storage.googleapis.com/earthenginepartners-hansen/GFC2015/Hansen_GFC2015_loss_40N_130E.tif\n",
      "https://storage.googleapis.com/earthenginepartners-hansen/GFC2015/Hansen_GFC2015_loss_40N_130W.tif\n",
      "https://storage.googleapis.com/earthenginepartners-hansen/GFC2015/Hansen_GFC2015_loss_40N_140E.tif\n",
      "https://storage.googleapis.com/earthenginepartners-hansen/GFC2015/Hansen_GFC2015_loss_40N_140W.tif\n",
      "https://storage.googleapis.com/earthenginepartners-hansen/GFC2015/Hansen_GFC2015_loss_40N_150E.tif\n",
      "https://storage.googleapis.com/earthenginepartners-hansen/GFC2015/Hansen_GFC2015_loss_40N_150W.tif\n",
      "https://storage.googleapis.com/earthenginepartners-hansen/GFC2015/Hansen_GFC2015_loss_40N_160E.tif\n",
      "https://storage.googleapis.com/earthenginepartners-hansen/GFC2015/Hansen_GFC2015_loss_40N_160W.tif\n",
      "https://storage.googleapis.com/earthenginepartners-hansen/GFC2015/Hansen_GFC2015_loss_40N_170E.tif\n",
      "https://storage.googleapis.com/earthenginepartners-hansen/GFC2015/Hansen_GFC2015_loss_40N_170W.tif\n",
      "https://storage.googleapis.com/earthenginepartners-hansen/GFC2015/Hansen_GFC2015_loss_40N_180W.tif\n",
      "https://storage.googleapis.com/earthenginepartners-hansen/GFC2015/Hansen_GFC2015_loss_40S_000E.tif\n",
      "https://storage.googleapis.com/earthenginepartners-hansen/GFC2015/Hansen_GFC2015_loss_40S_010E.tif\n",
      "https://storage.googleapis.com/earthenginepartners-hansen/GFC2015/Hansen_GFC2015_loss_40S_010W.tif\n",
      "https://storage.googleapis.com/earthenginepartners-hansen/GFC2015/Hansen_GFC2015_loss_40S_020E.tif\n",
      "https://storage.googleapis.com/earthenginepartners-hansen/GFC2015/Hansen_GFC2015_loss_40S_020W.tif\n",
      "https://storage.googleapis.com/earthenginepartners-hansen/GFC2015/Hansen_GFC2015_loss_40S_030E.tif\n",
      "https://storage.googleapis.com/earthenginepartners-hansen/GFC2015/Hansen_GFC2015_loss_40S_030W.tif\n",
      "https://storage.googleapis.com/earthenginepartners-hansen/GFC2015/Hansen_GFC2015_loss_40S_040E.tif\n",
      "https://storage.googleapis.com/earthenginepartners-hansen/GFC2015/Hansen_GFC2015_loss_40S_040W.tif\n",
      "https://storage.googleapis.com/earthenginepartners-hansen/GFC2015/Hansen_GFC2015_loss_40S_050E.tif\n",
      "https://storage.googleapis.com/earthenginepartners-hansen/GFC2015/Hansen_GFC2015_loss_40S_050W.tif\n",
      "https://storage.googleapis.com/earthenginepartners-hansen/GFC2015/Hansen_GFC2015_loss_40S_060E.tif\n",
      "https://storage.googleapis.com/earthenginepartners-hansen/GFC2015/Hansen_GFC2015_loss_40S_060W.tif\n",
      "https://storage.googleapis.com/earthenginepartners-hansen/GFC2015/Hansen_GFC2015_loss_40S_070E.tif\n",
      "https://storage.googleapis.com/earthenginepartners-hansen/GFC2015/Hansen_GFC2015_loss_40S_070W.tif\n",
      "https://storage.googleapis.com/earthenginepartners-hansen/GFC2015/Hansen_GFC2015_loss_40S_080E.tif\n",
      "https://storage.googleapis.com/earthenginepartners-hansen/GFC2015/Hansen_GFC2015_loss_40S_080W.tif\n",
      "https://storage.googleapis.com/earthenginepartners-hansen/GFC2015/Hansen_GFC2015_loss_40S_090E.tif\n",
      "https://storage.googleapis.com/earthenginepartners-hansen/GFC2015/Hansen_GFC2015_loss_40S_090W.tif\n",
      "https://storage.googleapis.com/earthenginepartners-hansen/GFC2015/Hansen_GFC2015_loss_40S_100E.tif\n",
      "https://storage.googleapis.com/earthenginepartners-hansen/GFC2015/Hansen_GFC2015_loss_40S_100W.tif\n",
      "https://storage.googleapis.com/earthenginepartners-hansen/GFC2015/Hansen_GFC2015_loss_40S_110E.tif\n",
      "https://storage.googleapis.com/earthenginepartners-hansen/GFC2015/Hansen_GFC2015_loss_40S_110W.tif\n",
      "https://storage.googleapis.com/earthenginepartners-hansen/GFC2015/Hansen_GFC2015_loss_40S_120E.tif\n",
      "https://storage.googleapis.com/earthenginepartners-hansen/GFC2015/Hansen_GFC2015_loss_40S_120W.tif\n",
      "https://storage.googleapis.com/earthenginepartners-hansen/GFC2015/Hansen_GFC2015_loss_40S_130E.tif\n",
      "https://storage.googleapis.com/earthenginepartners-hansen/GFC2015/Hansen_GFC2015_loss_40S_130W.tif\n",
      "https://storage.googleapis.com/earthenginepartners-hansen/GFC2015/Hansen_GFC2015_loss_40S_140E.tif\n",
      "https://storage.googleapis.com/earthenginepartners-hansen/GFC2015/Hansen_GFC2015_loss_40S_140W.tif\n",
      "https://storage.googleapis.com/earthenginepartners-hansen/GFC2015/Hansen_GFC2015_loss_40S_150E.tif\n",
      "https://storage.googleapis.com/earthenginepartners-hansen/GFC2015/Hansen_GFC2015_loss_40S_150W.tif\n",
      "https://storage.googleapis.com/earthenginepartners-hansen/GFC2015/Hansen_GFC2015_loss_40S_160E.tif\n",
      "https://storage.googleapis.com/earthenginepartners-hansen/GFC2015/Hansen_GFC2015_loss_40S_160W.tif\n",
      "https://storage.googleapis.com/earthenginepartners-hansen/GFC2015/Hansen_GFC2015_loss_40S_170E.tif\n",
      "https://storage.googleapis.com/earthenginepartners-hansen/GFC2015/Hansen_GFC2015_loss_40S_170W.tif\n",
      "https://storage.googleapis.com/earthenginepartners-hansen/GFC2015/Hansen_GFC2015_loss_40S_180W.tif\n",
      "https://storage.googleapis.com/earthenginepartners-hansen/GFC2015/Hansen_GFC2015_loss_50N_000E.tif\n",
      "https://storage.googleapis.com/earthenginepartners-hansen/GFC2015/Hansen_GFC2015_loss_50N_010E.tif\n",
      "https://storage.googleapis.com/earthenginepartners-hansen/GFC2015/Hansen_GFC2015_loss_50N_010W.tif\n",
      "https://storage.googleapis.com/earthenginepartners-hansen/GFC2015/Hansen_GFC2015_loss_50N_020E.tif\n",
      "https://storage.googleapis.com/earthenginepartners-hansen/GFC2015/Hansen_GFC2015_loss_50N_020W.tif\n",
      "https://storage.googleapis.com/earthenginepartners-hansen/GFC2015/Hansen_GFC2015_loss_50N_030E.tif\n",
      "https://storage.googleapis.com/earthenginepartners-hansen/GFC2015/Hansen_GFC2015_loss_50N_030W.tif\n",
      "https://storage.googleapis.com/earthenginepartners-hansen/GFC2015/Hansen_GFC2015_loss_50N_040E.tif\n",
      "https://storage.googleapis.com/earthenginepartners-hansen/GFC2015/Hansen_GFC2015_loss_50N_040W.tif\n",
      "https://storage.googleapis.com/earthenginepartners-hansen/GFC2015/Hansen_GFC2015_loss_50N_050E.tif\n",
      "https://storage.googleapis.com/earthenginepartners-hansen/GFC2015/Hansen_GFC2015_loss_50N_050W.tif\n",
      "https://storage.googleapis.com/earthenginepartners-hansen/GFC2015/Hansen_GFC2015_loss_50N_060E.tif\n",
      "https://storage.googleapis.com/earthenginepartners-hansen/GFC2015/Hansen_GFC2015_loss_50N_060W.tif\n",
      "https://storage.googleapis.com/earthenginepartners-hansen/GFC2015/Hansen_GFC2015_loss_50N_070E.tif\n",
      "https://storage.googleapis.com/earthenginepartners-hansen/GFC2015/Hansen_GFC2015_loss_50N_070W.tif\n",
      "https://storage.googleapis.com/earthenginepartners-hansen/GFC2015/Hansen_GFC2015_loss_50N_080E.tif\n",
      "https://storage.googleapis.com/earthenginepartners-hansen/GFC2015/Hansen_GFC2015_loss_50N_080W.tif\n",
      "https://storage.googleapis.com/earthenginepartners-hansen/GFC2015/Hansen_GFC2015_loss_50N_090E.tif\n",
      "https://storage.googleapis.com/earthenginepartners-hansen/GFC2015/Hansen_GFC2015_loss_50N_090W.tif\n",
      "https://storage.googleapis.com/earthenginepartners-hansen/GFC2015/Hansen_GFC2015_loss_50N_100E.tif\n",
      "https://storage.googleapis.com/earthenginepartners-hansen/GFC2015/Hansen_GFC2015_loss_50N_100W.tif\n",
      "https://storage.googleapis.com/earthenginepartners-hansen/GFC2015/Hansen_GFC2015_loss_50N_110E.tif\n",
      "https://storage.googleapis.com/earthenginepartners-hansen/GFC2015/Hansen_GFC2015_loss_50N_110W.tif\n",
      "https://storage.googleapis.com/earthenginepartners-hansen/GFC2015/Hansen_GFC2015_loss_50N_120E.tif\n",
      "https://storage.googleapis.com/earthenginepartners-hansen/GFC2015/Hansen_GFC2015_loss_50N_120W.tif\n",
      "https://storage.googleapis.com/earthenginepartners-hansen/GFC2015/Hansen_GFC2015_loss_50N_130E.tif\n",
      "https://storage.googleapis.com/earthenginepartners-hansen/GFC2015/Hansen_GFC2015_loss_50N_130W.tif\n",
      "https://storage.googleapis.com/earthenginepartners-hansen/GFC2015/Hansen_GFC2015_loss_50N_140E.tif\n",
      "https://storage.googleapis.com/earthenginepartners-hansen/GFC2015/Hansen_GFC2015_loss_50N_140W.tif\n",
      "https://storage.googleapis.com/earthenginepartners-hansen/GFC2015/Hansen_GFC2015_loss_50N_150E.tif\n",
      "https://storage.googleapis.com/earthenginepartners-hansen/GFC2015/Hansen_GFC2015_loss_50N_150W.tif\n",
      "https://storage.googleapis.com/earthenginepartners-hansen/GFC2015/Hansen_GFC2015_loss_50N_160E.tif\n",
      "https://storage.googleapis.com/earthenginepartners-hansen/GFC2015/Hansen_GFC2015_loss_50N_160W.tif\n",
      "https://storage.googleapis.com/earthenginepartners-hansen/GFC2015/Hansen_GFC2015_loss_50N_170E.tif\n",
      "https://storage.googleapis.com/earthenginepartners-hansen/GFC2015/Hansen_GFC2015_loss_50N_170W.tif\n",
      "https://storage.googleapis.com/earthenginepartners-hansen/GFC2015/Hansen_GFC2015_loss_50N_180W.tif\n",
      "https://storage.googleapis.com/earthenginepartners-hansen/GFC2015/Hansen_GFC2015_loss_50S_000E.tif\n",
      "https://storage.googleapis.com/earthenginepartners-hansen/GFC2015/Hansen_GFC2015_loss_50S_010E.tif\n",
      "https://storage.googleapis.com/earthenginepartners-hansen/GFC2015/Hansen_GFC2015_loss_50S_010W.tif\n",
      "https://storage.googleapis.com/earthenginepartners-hansen/GFC2015/Hansen_GFC2015_loss_50S_020E.tif\n",
      "https://storage.googleapis.com/earthenginepartners-hansen/GFC2015/Hansen_GFC2015_loss_50S_020W.tif\n",
      "https://storage.googleapis.com/earthenginepartners-hansen/GFC2015/Hansen_GFC2015_loss_50S_030E.tif\n",
      "https://storage.googleapis.com/earthenginepartners-hansen/GFC2015/Hansen_GFC2015_loss_50S_030W.tif\n",
      "https://storage.googleapis.com/earthenginepartners-hansen/GFC2015/Hansen_GFC2015_loss_50S_040E.tif\n",
      "https://storage.googleapis.com/earthenginepartners-hansen/GFC2015/Hansen_GFC2015_loss_50S_040W.tif\n",
      "https://storage.googleapis.com/earthenginepartners-hansen/GFC2015/Hansen_GFC2015_loss_50S_050E.tif\n",
      "https://storage.googleapis.com/earthenginepartners-hansen/GFC2015/Hansen_GFC2015_loss_50S_050W.tif\n",
      "https://storage.googleapis.com/earthenginepartners-hansen/GFC2015/Hansen_GFC2015_loss_50S_060E.tif\n",
      "https://storage.googleapis.com/earthenginepartners-hansen/GFC2015/Hansen_GFC2015_loss_50S_060W.tif\n",
      "https://storage.googleapis.com/earthenginepartners-hansen/GFC2015/Hansen_GFC2015_loss_50S_070E.tif\n",
      "https://storage.googleapis.com/earthenginepartners-hansen/GFC2015/Hansen_GFC2015_loss_50S_070W.tif\n",
      "https://storage.googleapis.com/earthenginepartners-hansen/GFC2015/Hansen_GFC2015_loss_50S_080E.tif\n",
      "https://storage.googleapis.com/earthenginepartners-hansen/GFC2015/Hansen_GFC2015_loss_50S_080W.tif\n",
      "https://storage.googleapis.com/earthenginepartners-hansen/GFC2015/Hansen_GFC2015_loss_50S_090E.tif\n",
      "https://storage.googleapis.com/earthenginepartners-hansen/GFC2015/Hansen_GFC2015_loss_50S_090W.tif\n",
      "https://storage.googleapis.com/earthenginepartners-hansen/GFC2015/Hansen_GFC2015_loss_50S_100E.tif\n",
      "https://storage.googleapis.com/earthenginepartners-hansen/GFC2015/Hansen_GFC2015_loss_50S_100W.tif\n",
      "https://storage.googleapis.com/earthenginepartners-hansen/GFC2015/Hansen_GFC2015_loss_50S_110E.tif\n",
      "https://storage.googleapis.com/earthenginepartners-hansen/GFC2015/Hansen_GFC2015_loss_50S_110W.tif\n",
      "https://storage.googleapis.com/earthenginepartners-hansen/GFC2015/Hansen_GFC2015_loss_50S_120E.tif\n",
      "https://storage.googleapis.com/earthenginepartners-hansen/GFC2015/Hansen_GFC2015_loss_50S_120W.tif\n",
      "https://storage.googleapis.com/earthenginepartners-hansen/GFC2015/Hansen_GFC2015_loss_50S_130E.tif\n",
      "https://storage.googleapis.com/earthenginepartners-hansen/GFC2015/Hansen_GFC2015_loss_50S_130W.tif\n",
      "https://storage.googleapis.com/earthenginepartners-hansen/GFC2015/Hansen_GFC2015_loss_50S_140E.tif\n",
      "https://storage.googleapis.com/earthenginepartners-hansen/GFC2015/Hansen_GFC2015_loss_50S_140W.tif\n",
      "https://storage.googleapis.com/earthenginepartners-hansen/GFC2015/Hansen_GFC2015_loss_50S_150E.tif\n",
      "https://storage.googleapis.com/earthenginepartners-hansen/GFC2015/Hansen_GFC2015_loss_50S_150W.tif\n",
      "https://storage.googleapis.com/earthenginepartners-hansen/GFC2015/Hansen_GFC2015_loss_50S_160E.tif\n",
      "https://storage.googleapis.com/earthenginepartners-hansen/GFC2015/Hansen_GFC2015_loss_50S_160W.tif\n",
      "https://storage.googleapis.com/earthenginepartners-hansen/GFC2015/Hansen_GFC2015_loss_50S_170E.tif\n",
      "https://storage.googleapis.com/earthenginepartners-hansen/GFC2015/Hansen_GFC2015_loss_50S_170W.tif\n",
      "https://storage.googleapis.com/earthenginepartners-hansen/GFC2015/Hansen_GFC2015_loss_50S_180W.tif\n",
      "https://storage.googleapis.com/earthenginepartners-hansen/GFC2015/Hansen_GFC2015_loss_60N_000E.tif\n",
      "https://storage.googleapis.com/earthenginepartners-hansen/GFC2015/Hansen_GFC2015_loss_60N_010E.tif\n",
      "https://storage.googleapis.com/earthenginepartners-hansen/GFC2015/Hansen_GFC2015_loss_60N_010W.tif\n",
      "https://storage.googleapis.com/earthenginepartners-hansen/GFC2015/Hansen_GFC2015_loss_60N_020E.tif\n",
      "https://storage.googleapis.com/earthenginepartners-hansen/GFC2015/Hansen_GFC2015_loss_60N_020W.tif\n",
      "https://storage.googleapis.com/earthenginepartners-hansen/GFC2015/Hansen_GFC2015_loss_60N_030E.tif\n",
      "https://storage.googleapis.com/earthenginepartners-hansen/GFC2015/Hansen_GFC2015_loss_60N_030W.tif\n",
      "https://storage.googleapis.com/earthenginepartners-hansen/GFC2015/Hansen_GFC2015_loss_60N_040E.tif\n",
      "https://storage.googleapis.com/earthenginepartners-hansen/GFC2015/Hansen_GFC2015_loss_60N_040W.tif\n",
      "https://storage.googleapis.com/earthenginepartners-hansen/GFC2015/Hansen_GFC2015_loss_60N_050E.tif\n",
      "https://storage.googleapis.com/earthenginepartners-hansen/GFC2015/Hansen_GFC2015_loss_60N_050W.tif\n",
      "https://storage.googleapis.com/earthenginepartners-hansen/GFC2015/Hansen_GFC2015_loss_60N_060E.tif\n",
      "https://storage.googleapis.com/earthenginepartners-hansen/GFC2015/Hansen_GFC2015_loss_60N_060W.tif\n",
      "https://storage.googleapis.com/earthenginepartners-hansen/GFC2015/Hansen_GFC2015_loss_60N_070E.tif\n",
      "https://storage.googleapis.com/earthenginepartners-hansen/GFC2015/Hansen_GFC2015_loss_60N_070W.tif\n",
      "https://storage.googleapis.com/earthenginepartners-hansen/GFC2015/Hansen_GFC2015_loss_60N_080E.tif\n",
      "https://storage.googleapis.com/earthenginepartners-hansen/GFC2015/Hansen_GFC2015_loss_60N_080W.tif\n",
      "https://storage.googleapis.com/earthenginepartners-hansen/GFC2015/Hansen_GFC2015_loss_60N_090E.tif\n",
      "https://storage.googleapis.com/earthenginepartners-hansen/GFC2015/Hansen_GFC2015_loss_60N_090W.tif\n",
      "https://storage.googleapis.com/earthenginepartners-hansen/GFC2015/Hansen_GFC2015_loss_60N_100E.tif\n",
      "https://storage.googleapis.com/earthenginepartners-hansen/GFC2015/Hansen_GFC2015_loss_60N_100W.tif\n",
      "https://storage.googleapis.com/earthenginepartners-hansen/GFC2015/Hansen_GFC2015_loss_60N_110E.tif\n",
      "https://storage.googleapis.com/earthenginepartners-hansen/GFC2015/Hansen_GFC2015_loss_60N_110W.tif\n",
      "https://storage.googleapis.com/earthenginepartners-hansen/GFC2015/Hansen_GFC2015_loss_60N_120E.tif\n",
      "https://storage.googleapis.com/earthenginepartners-hansen/GFC2015/Hansen_GFC2015_loss_60N_120W.tif\n",
      "https://storage.googleapis.com/earthenginepartners-hansen/GFC2015/Hansen_GFC2015_loss_60N_130E.tif\n",
      "https://storage.googleapis.com/earthenginepartners-hansen/GFC2015/Hansen_GFC2015_loss_60N_130W.tif\n",
      "https://storage.googleapis.com/earthenginepartners-hansen/GFC2015/Hansen_GFC2015_loss_60N_140E.tif\n",
      "https://storage.googleapis.com/earthenginepartners-hansen/GFC2015/Hansen_GFC2015_loss_60N_140W.tif\n",
      "https://storage.googleapis.com/earthenginepartners-hansen/GFC2015/Hansen_GFC2015_loss_60N_150E.tif\n",
      "https://storage.googleapis.com/earthenginepartners-hansen/GFC2015/Hansen_GFC2015_loss_60N_150W.tif\n",
      "https://storage.googleapis.com/earthenginepartners-hansen/GFC2015/Hansen_GFC2015_loss_60N_160E.tif\n",
      "https://storage.googleapis.com/earthenginepartners-hansen/GFC2015/Hansen_GFC2015_loss_60N_160W.tif\n",
      "https://storage.googleapis.com/earthenginepartners-hansen/GFC2015/Hansen_GFC2015_loss_60N_170E.tif\n",
      "https://storage.googleapis.com/earthenginepartners-hansen/GFC2015/Hansen_GFC2015_loss_60N_170W.tif\n",
      "https://storage.googleapis.com/earthenginepartners-hansen/GFC2015/Hansen_GFC2015_loss_60N_180W.tif\n",
      "https://storage.googleapis.com/earthenginepartners-hansen/GFC2015/Hansen_GFC2015_loss_70N_000E.tif\n",
      "https://storage.googleapis.com/earthenginepartners-hansen/GFC2015/Hansen_GFC2015_loss_70N_010E.tif\n",
      "https://storage.googleapis.com/earthenginepartners-hansen/GFC2015/Hansen_GFC2015_loss_70N_010W.tif\n",
      "https://storage.googleapis.com/earthenginepartners-hansen/GFC2015/Hansen_GFC2015_loss_70N_020E.tif\n",
      "https://storage.googleapis.com/earthenginepartners-hansen/GFC2015/Hansen_GFC2015_loss_70N_020W.tif\n",
      "https://storage.googleapis.com/earthenginepartners-hansen/GFC2015/Hansen_GFC2015_loss_70N_030E.tif\n",
      "https://storage.googleapis.com/earthenginepartners-hansen/GFC2015/Hansen_GFC2015_loss_70N_030W.tif\n",
      "https://storage.googleapis.com/earthenginepartners-hansen/GFC2015/Hansen_GFC2015_loss_70N_040E.tif\n",
      "https://storage.googleapis.com/earthenginepartners-hansen/GFC2015/Hansen_GFC2015_loss_70N_040W.tif\n",
      "https://storage.googleapis.com/earthenginepartners-hansen/GFC2015/Hansen_GFC2015_loss_70N_050E.tif\n",
      "https://storage.googleapis.com/earthenginepartners-hansen/GFC2015/Hansen_GFC2015_loss_70N_050W.tif\n",
      "https://storage.googleapis.com/earthenginepartners-hansen/GFC2015/Hansen_GFC2015_loss_70N_060E.tif\n",
      "https://storage.googleapis.com/earthenginepartners-hansen/GFC2015/Hansen_GFC2015_loss_70N_060W.tif\n",
      "https://storage.googleapis.com/earthenginepartners-hansen/GFC2015/Hansen_GFC2015_loss_70N_070E.tif\n",
      "https://storage.googleapis.com/earthenginepartners-hansen/GFC2015/Hansen_GFC2015_loss_70N_070W.tif\n",
      "https://storage.googleapis.com/earthenginepartners-hansen/GFC2015/Hansen_GFC2015_loss_70N_080E.tif\n",
      "https://storage.googleapis.com/earthenginepartners-hansen/GFC2015/Hansen_GFC2015_loss_70N_080W.tif\n",
      "https://storage.googleapis.com/earthenginepartners-hansen/GFC2015/Hansen_GFC2015_loss_70N_090E.tif\n",
      "https://storage.googleapis.com/earthenginepartners-hansen/GFC2015/Hansen_GFC2015_loss_70N_090W.tif\n",
      "https://storage.googleapis.com/earthenginepartners-hansen/GFC2015/Hansen_GFC2015_loss_70N_100E.tif\n",
      "https://storage.googleapis.com/earthenginepartners-hansen/GFC2015/Hansen_GFC2015_loss_70N_100W.tif\n",
      "https://storage.googleapis.com/earthenginepartners-hansen/GFC2015/Hansen_GFC2015_loss_70N_110E.tif\n",
      "https://storage.googleapis.com/earthenginepartners-hansen/GFC2015/Hansen_GFC2015_loss_70N_110W.tif\n",
      "https://storage.googleapis.com/earthenginepartners-hansen/GFC2015/Hansen_GFC2015_loss_70N_120E.tif\n",
      "https://storage.googleapis.com/earthenginepartners-hansen/GFC2015/Hansen_GFC2015_loss_70N_120W.tif\n",
      "https://storage.googleapis.com/earthenginepartners-hansen/GFC2015/Hansen_GFC2015_loss_70N_130E.tif\n",
      "https://storage.googleapis.com/earthenginepartners-hansen/GFC2015/Hansen_GFC2015_loss_70N_130W.tif\n",
      "https://storage.googleapis.com/earthenginepartners-hansen/GFC2015/Hansen_GFC2015_loss_70N_140E.tif\n",
      "https://storage.googleapis.com/earthenginepartners-hansen/GFC2015/Hansen_GFC2015_loss_70N_140W.tif\n",
      "https://storage.googleapis.com/earthenginepartners-hansen/GFC2015/Hansen_GFC2015_loss_70N_150E.tif\n",
      "https://storage.googleapis.com/earthenginepartners-hansen/GFC2015/Hansen_GFC2015_loss_70N_150W.tif\n",
      "https://storage.googleapis.com/earthenginepartners-hansen/GFC2015/Hansen_GFC2015_loss_70N_160E.tif\n",
      "https://storage.googleapis.com/earthenginepartners-hansen/GFC2015/Hansen_GFC2015_loss_70N_160W.tif\n",
      "https://storage.googleapis.com/earthenginepartners-hansen/GFC2015/Hansen_GFC2015_loss_70N_170E.tif\n",
      "https://storage.googleapis.com/earthenginepartners-hansen/GFC2015/Hansen_GFC2015_loss_70N_170W.tif\n",
      "https://storage.googleapis.com/earthenginepartners-hansen/GFC2015/Hansen_GFC2015_loss_70N_180W.tif\n",
      "https://storage.googleapis.com/earthenginepartners-hansen/GFC2015/Hansen_GFC2015_loss_80N_000E.tif\n",
      "https://storage.googleapis.com/earthenginepartners-hansen/GFC2015/Hansen_GFC2015_loss_80N_010E.tif\n",
      "https://storage.googleapis.com/earthenginepartners-hansen/GFC2015/Hansen_GFC2015_loss_80N_010W.tif\n",
      "https://storage.googleapis.com/earthenginepartners-hansen/GFC2015/Hansen_GFC2015_loss_80N_020E.tif\n",
      "https://storage.googleapis.com/earthenginepartners-hansen/GFC2015/Hansen_GFC2015_loss_80N_020W.tif\n",
      "https://storage.googleapis.com/earthenginepartners-hansen/GFC2015/Hansen_GFC2015_loss_80N_030E.tif\n",
      "https://storage.googleapis.com/earthenginepartners-hansen/GFC2015/Hansen_GFC2015_loss_80N_030W.tif\n",
      "https://storage.googleapis.com/earthenginepartners-hansen/GFC2015/Hansen_GFC2015_loss_80N_040E.tif\n",
      "https://storage.googleapis.com/earthenginepartners-hansen/GFC2015/Hansen_GFC2015_loss_80N_040W.tif\n",
      "https://storage.googleapis.com/earthenginepartners-hansen/GFC2015/Hansen_GFC2015_loss_80N_050E.tif\n",
      "https://storage.googleapis.com/earthenginepartners-hansen/GFC2015/Hansen_GFC2015_loss_80N_050W.tif\n",
      "https://storage.googleapis.com/earthenginepartners-hansen/GFC2015/Hansen_GFC2015_loss_80N_060E.tif\n",
      "https://storage.googleapis.com/earthenginepartners-hansen/GFC2015/Hansen_GFC2015_loss_80N_060W.tif\n",
      "https://storage.googleapis.com/earthenginepartners-hansen/GFC2015/Hansen_GFC2015_loss_80N_070E.tif\n",
      "https://storage.googleapis.com/earthenginepartners-hansen/GFC2015/Hansen_GFC2015_loss_80N_070W.tif\n",
      "https://storage.googleapis.com/earthenginepartners-hansen/GFC2015/Hansen_GFC2015_loss_80N_080E.tif\n",
      "https://storage.googleapis.com/earthenginepartners-hansen/GFC2015/Hansen_GFC2015_loss_80N_080W.tif\n",
      "https://storage.googleapis.com/earthenginepartners-hansen/GFC2015/Hansen_GFC2015_loss_80N_090E.tif\n",
      "https://storage.googleapis.com/earthenginepartners-hansen/GFC2015/Hansen_GFC2015_loss_80N_090W.tif\n",
      "https://storage.googleapis.com/earthenginepartners-hansen/GFC2015/Hansen_GFC2015_loss_80N_100E.tif\n",
      "https://storage.googleapis.com/earthenginepartners-hansen/GFC2015/Hansen_GFC2015_loss_80N_100W.tif\n",
      "https://storage.googleapis.com/earthenginepartners-hansen/GFC2015/Hansen_GFC2015_loss_80N_110E.tif\n",
      "https://storage.googleapis.com/earthenginepartners-hansen/GFC2015/Hansen_GFC2015_loss_80N_110W.tif\n",
      "https://storage.googleapis.com/earthenginepartners-hansen/GFC2015/Hansen_GFC2015_loss_80N_120E.tif\n",
      "https://storage.googleapis.com/earthenginepartners-hansen/GFC2015/Hansen_GFC2015_loss_80N_120W.tif\n",
      "https://storage.googleapis.com/earthenginepartners-hansen/GFC2015/Hansen_GFC2015_loss_80N_130E.tif\n",
      "https://storage.googleapis.com/earthenginepartners-hansen/GFC2015/Hansen_GFC2015_loss_80N_130W.tif\n",
      "https://storage.googleapis.com/earthenginepartners-hansen/GFC2015/Hansen_GFC2015_loss_80N_140E.tif\n",
      "https://storage.googleapis.com/earthenginepartners-hansen/GFC2015/Hansen_GFC2015_loss_80N_140W.tif\n",
      "https://storage.googleapis.com/earthenginepartners-hansen/GFC2015/Hansen_GFC2015_loss_80N_150E.tif\n",
      "https://storage.googleapis.com/earthenginepartners-hansen/GFC2015/Hansen_GFC2015_loss_80N_150W.tif\n",
      "https://storage.googleapis.com/earthenginepartners-hansen/GFC2015/Hansen_GFC2015_loss_80N_160E.tif\n",
      "https://storage.googleapis.com/earthenginepartners-hansen/GFC2015/Hansen_GFC2015_loss_80N_160W.tif\n",
      "https://storage.googleapis.com/earthenginepartners-hansen/GFC2015/Hansen_GFC2015_loss_80N_170E.tif\n",
      "https://storage.googleapis.com/earthenginepartners-hansen/GFC2015/Hansen_GFC2015_loss_80N_170W.tif\n",
      "https://storage.googleapis.com/earthenginepartners-hansen/GFC2015/Hansen_GFC2015_loss_80N_180W.tif\n"
     ]
    }
   ],
   "source": [
    "# download gfc data\n",
    "download_gfc(loss_url)"
   ]
  },
  {
   "cell_type": "code",
   "execution_count": 44,
   "metadata": {},
   "outputs": [],
   "source": [
    "address = 'https://storage.googleapis.com/earthenginepartners-hansen/GFC2015/Hansen_GFC2015_treecover2000_00N_000E.tif'"
   ]
  },
  {
   "cell_type": "code",
   "execution_count": 52,
   "metadata": {},
   "outputs": [],
   "source": [
    "import re"
   ]
  },
  {
   "cell_type": "code",
   "execution_count": 54,
   "metadata": {},
   "outputs": [],
   "source": [
    "m = re.search('.tif', address)"
   ]
  },
  {
   "cell_type": "code",
   "execution_count": 55,
   "metadata": {},
   "outputs": [
    {
     "name": "stdout",
     "output_type": "stream",
     "text": [
      "<re.Match object; span=(103, 107), match='.tif'>\n"
     ]
    }
   ],
   "source": []
  },
  {
   "cell_type": "markdown",
   "metadata": {},
   "source": [
    "## Calculation Process"
   ]
  },
  {
   "cell_type": "markdown",
   "metadata": {},
   "source": [
    "How to calculate forest loss (km2)?"
   ]
  },
  {
   "cell_type": "markdown",
   "metadata": {},
   "source": [
    "1) convert treecover data to forests (>=50%, forests; <50%, non-forests)"
   ]
  },
  {
   "cell_type": "markdown",
   "metadata": {},
   "source": [
    "2)"
   ]
  },
  {
   "cell_type": "markdown",
   "metadata": {},
   "source": [
    "3)"
   ]
  },
  {
   "cell_type": "markdown",
   "metadata": {},
   "source": [
    "4)"
   ]
  },
  {
   "cell_type": "markdown",
   "metadata": {},
   "source": [
    "5)"
   ]
  },
  {
   "cell_type": "markdown",
   "metadata": {},
   "source": [
    "How to calculate proportional forest loss (%)?"
   ]
  },
  {
   "cell_type": "markdown",
   "metadata": {},
   "source": [
    "1)"
   ]
  },
  {
   "cell_type": "markdown",
   "metadata": {},
   "source": [
    "2)"
   ]
  },
  {
   "cell_type": "markdown",
   "metadata": {},
   "source": [
    "3)"
   ]
  },
  {
   "cell_type": "markdown",
   "metadata": {},
   "source": []
  },
  {
   "cell_type": "markdown",
   "metadata": {},
   "source": []
  },
  {
   "cell_type": "markdown",
   "metadata": {},
   "source": [
    "How to calculate annual forest loss?"
   ]
  },
  {
   "cell_type": "markdown",
   "metadata": {},
   "source": [
    "1)"
   ]
  },
  {
   "cell_type": "markdown",
   "metadata": {},
   "source": [
    "2)"
   ]
  },
  {
   "cell_type": "markdown",
   "metadata": {},
   "source": [
    "3)"
   ]
  },
  {
   "cell_type": "markdown",
   "metadata": {},
   "source": []
  },
  {
   "cell_type": "markdown",
   "metadata": {},
   "source": [
    "Anthromes were introduced by Ellis and Ramankutty [13] and classify the earths\n",
    "land surface based on a combination of data on population density, land-use, and land cover [13]. They\n",
    "characterize land surface based on global patterns of sustained, direct human interaction with\n",
    "ecosystems. Comparisons of trends in NDVI among anthromes thus represent a useful probe of direct\n",
    "anthropogenic effects on long-term trends in NDVI."
   ]
  }
 ],
 "metadata": {
  "kernelspec": {
   "display_name": "Python 3",
   "language": "python",
   "name": "python3"
  },
  "language_info": {
   "codemirror_mode": {
    "name": "ipython",
    "version": 3
   },
   "file_extension": ".py",
   "mimetype": "text/x-python",
   "name": "python",
   "nbconvert_exporter": "python",
   "pygments_lexer": "ipython3",
   "version": "3.7.3"
  }
 },
 "nbformat": 4,
 "nbformat_minor": 2
}
